{
 "cells": [
  {
   "cell_type": "markdown",
   "id": "8a27c9d7-c414-415f-88d8-6e6c13eed971",
   "metadata": {},
   "source": [
    "## Loading Data"
   ]
  },
  {
   "cell_type": "code",
   "execution_count": null,
   "id": "20ef6b12",
   "metadata": {},
   "outputs": [],
   "source": [
    "from wbfm.utils.general.utils_behavior_annotation import BehaviorCodes\n",
    "from wbfm.utils.traces.triggered_averages import FullDatasetTriggeredAverages\n",
    "from wbfm.utils.traces.triggered_averages import TriggeredAverageIndices"
   ]
  },
  {
   "cell_type": "code",
   "execution_count": null,
   "id": "c840dd2e",
   "metadata": {},
   "outputs": [],
   "source": [
    "import pandas as pd\n",
    "data = pd.read_hdf(\"time_embedded_2103.h5\")"
   ]
  },
  {
   "cell_type": "markdown",
   "id": "e2908f1d",
   "metadata": {},
   "source": [
    "#### Function to map our states to wbfm enum values"
   ]
  },
  {
   "cell_type": "code",
   "execution_count": null,
   "id": "2372a720",
   "metadata": {},
   "outputs": [],
   "source": [
    "def mapping(cls, flip: bool = False):\n",
    "    original_mapping = {\n",
    "        \"forward\": cls.FWD,\n",
    "        \"reversal\": cls.REV,\n",
    "        \"sustained reversal\": cls.REV,\n",
    "        \"ventral\": cls.VENTRAL_TURN,\n",
    "        \"dorsal\": cls.DORSAL_TURN,\n",
    "        6: cls.SUPERCOIL,\n",
    "        7: cls.QUIESCENCE,\n",
    "        0: cls.NOT_ANNOTATED,\n",
    "        -99: cls.UNKNOWN,  # Should not be in any files that Ulises produces\n",
    "    }\n",
    "    if flip:\n",
    "        original_mapping = {v: k for k, v in original_mapping.items()}\n",
    "    return original_mapping"
   ]
  },
  {
   "cell_type": "markdown",
   "id": "b19c1d52",
   "metadata": {},
   "source": [
    "#### Function to get a dataframe with the triggered averages for each of the dataset"
   ]
  },
  {
   "cell_type": "code",
   "execution_count": null,
   "id": "51ca3523",
   "metadata": {},
   "outputs": [],
   "source": [
    "def get_triggered_averages(data, fixed_num_points_after_event=None):\n",
    "    all_dfs = []\n",
    "    groups = data.groupby(\"dataset\")\n",
    "    for name, df in groups:\n",
    "        states = df['state'].map(mapping(BehaviorCodes))\n",
    "        opt = dict(behavioral_annotation=states, fixed_num_points_after_event=fixed_num_points_after_event)\n",
    "        indices = TriggeredAverageIndices(**opt)\n",
    "        traces = FullDatasetTriggeredAverages(df.loc[:,~df.columns.isin([\"state\",\"dataset\"])], indices)\n",
    "        triggered_avg_df = traces.df_of_all_triggered_averages()\n",
    "        triggered_avg_df['dataset'] = name\n",
    "        triggered_states = states[states.index.isin(triggered_avg_df.index)]\n",
    "        all_dfs.append(triggered_avg_df)\n",
    "    return pd.concat(all_dfs)                         "
   ]
  },
  {
   "cell_type": "code",
   "execution_count": null,
   "id": "6fcbba16",
   "metadata": {},
   "outputs": [],
   "source": [
    "triggered_1203 = get_triggered_averages(data)\n",
    "triggered_1303 = get_triggered_averages(data, 142) # 140 because 20200826_w6 doesn't have that many frames, there are some recordings with a reversal interval of way over 150. This is fine        "
   ]
  },
  {
   "cell_type": "code",
   "execution_count": null,
   "id": "98242724",
   "metadata": {},
   "outputs": [],
   "source": [
    "triggered_1203.groupby('dataset').size().head()"
   ]
  },
  {
   "cell_type": "code",
   "execution_count": null,
   "id": "f178ca26",
   "metadata": {},
   "outputs": [],
   "source": [
    "triggered_1303.groupby('dataset').size().head()\n"
   ]
  },
  {
   "cell_type": "code",
   "execution_count": null,
   "id": "ce2c6b6c",
   "metadata": {},
   "outputs": [],
   "source": [
    "triggered_1303.to_hdf(\"triggered_averages_2203.h5\", key=\"triggered_averages\")"
   ]
  },
  {
   "cell_type": "code",
   "execution_count": null,
   "id": "2d690f14",
   "metadata": {},
   "outputs": [],
   "source": [
    "triggered_1203.to_hdf(\"triggered_averages_2103.h5\", key=\"triggered_averages\")"
   ]
  }
 ],
 "metadata": {
  "kernelspec": {
   "display_name": "Python 3 (ipykernel)",
   "language": "python",
   "name": "python3"
  },
  "language_info": {
   "codemirror_mode": {
    "name": "ipython",
    "version": 3
   },
   "file_extension": ".py",
   "mimetype": "text/x-python",
   "name": "python",
   "nbconvert_exporter": "python",
   "pygments_lexer": "ipython3",
   "version": "3.10.12"
  }
 },
 "nbformat": 4,
 "nbformat_minor": 5
}
