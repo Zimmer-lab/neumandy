{
 "cells": [
  {
   "cell_type": "markdown",
   "metadata": {},
   "source": [
    "### Data Diagnostics: Time Delay Embedding"
   ]
  },
  {
   "cell_type": "code",
   "execution_count": null,
   "metadata": {},
   "outputs": [],
   "source": [
    "import pandas as pd\n",
    "import numpy as np\n",
    "from gtda.time_series import TakensEmbedding\n",
    "from sklearn.decomposition import PCA\n",
    "import helper_functions as hf\n"
   ]
  },
  {
   "cell_type": "code",
   "execution_count": null,
   "metadata": {},
   "outputs": [],
   "source": [
    "dataframe = pd.read_hdf('quartiled_data_0602.h5')"
   ]
  },
  {
   "cell_type": "code",
   "execution_count": null,
   "metadata": {},
   "outputs": [],
   "source": [
    "TE = TakensEmbedding(time_delay=1, dimension=10, flatten=True)\n",
    "transformed_data = TE.fit_transform(dataframe.loc[:,~dataframe.columns.isin(['state','dataset'])].T)\n",
    "time_embedded = pd.DataFrame(np.concatenate((transformed_data),axis=1))"
   ]
  },
  {
   "cell_type": "code",
   "execution_count": null,
   "metadata": {},
   "outputs": [],
   "source": [
    "pca = PCA(n_components=3)\n",
    "pca_data = pca.fit_transform(time_embedded)\n",
    "data = pd.DataFrame(pca_data)\n",
    "data['state'] = dataframe['state']\n",
    "data['dataset'] = dataframe['dataset']"
   ]
  },
  {
   "cell_type": "code",
   "execution_count": null,
   "metadata": {},
   "outputs": [],
   "source": [
    "time_embedded['dataset'] = dataframe['dataset']\n",
    "time_embedded['state'] = dataframe['state']"
   ]
  },
  {
   "cell_type": "code",
   "execution_count": null,
   "metadata": {},
   "outputs": [],
   "source": [
    "time_embedded.to_hdf('time_embedded_2103.h5', key='df')"
   ]
  },
  {
   "cell_type": "code",
   "execution_count": null,
   "metadata": {},
   "outputs": [],
   "source": [
    "hf.plot_PCs(data, 'PCA of Time Embedded Data', pca.explained_variance_ratio_*100)"
   ]
  },
  {
   "cell_type": "markdown",
   "metadata": {},
   "source": [
    "### PCA with 7 components"
   ]
  },
  {
   "cell_type": "code",
   "execution_count": null,
   "metadata": {},
   "outputs": [],
   "source": [
    "import plotly.express as px"
   ]
  },
  {
   "cell_type": "code",
   "execution_count": null,
   "metadata": {},
   "outputs": [],
   "source": [
    "pca7 = PCA(n_components=7)\n",
    "pca7_data = pd.DataFrame(pca7.fit_transform(time_embedded.loc[:,~time_embedded.columns.isin(['state','dataset'])]))\n",
    "pca7_data['state'] = dataframe['state']\n",
    "pca7_data['dataset'] = dataframe['dataset']"
   ]
  },
  {
   "cell_type": "code",
   "execution_count": null,
   "metadata": {},
   "outputs": [],
   "source": [
    "pd.DataFrame(pca7.explained_variance_ratio_*100, columns=['Explained Variance']).to_hdf('explained_variance_2903.h5', key='preprocessed')"
   ]
  },
  {
   "cell_type": "code",
   "execution_count": null,
   "metadata": {},
   "outputs": [],
   "source": [
    "fig = px.bar(y=pca7.explained_variance_ratio_*100,  x=[i+1 for i in range(7)], text_auto='.2s', labels={\"x\":\"PC\",\"y\":\"explained variance (%)\"}, height=400)\n",
    "fig.update_layout(title='Explained Variance of PCA of Preprocessed Data', showlegend=False)\n",
    "fig.show()"
   ]
  },
  {
   "cell_type": "markdown",
   "metadata": {},
   "source": [
    "## Comparison with unpreprocessed data"
   ]
  },
  {
   "cell_type": "code",
   "execution_count": null,
   "metadata": {},
   "outputs": [],
   "source": [
    "variances = pd.read_hdf(\"explained_variance_2903.h5\", key='unpreprocessed')\n",
    "variances = variances.rename(columns={'Explained Variance':'Unpreprocessed'})\n",
    "variances['Preprocessed'] = pca7.explained_variance_ratio_*100"
   ]
  },
  {
   "cell_type": "code",
   "execution_count": null,
   "metadata": {},
   "outputs": [],
   "source": [
    "import plotly.graph_objects as go"
   ]
  },
  {
   "cell_type": "code",
   "execution_count": null,
   "metadata": {},
   "outputs": [],
   "source": [
    "fig = go.Figure()\n",
    "fig.add_trace(go.Bar(x=[i+1 for i in range(7)], y=variances['Preprocessed'], name='Preprocessed', text=round(variances['Preprocessed'],2), marker_color='lightseagreen'))\n",
    "fig.add_trace(go.Bar(x=[i+1 for i in range(7)], y=variances['Unpreprocessed'], name='Unpreprocessed', marker_color='lightpink', text=round(variances['Unpreprocessed'], 2)))\n",
    "fig.update_layout(xaxis_title='PC', yaxis_title='Explained Variance (%)', title='Explained Variance and Cumulative Explained Variance of PCA of Preprocessed and Unpreprocessed Data', barmode='group', showlegend=True)\n",
    "fig.show()"
   ]
  },
  {
   "cell_type": "code",
   "execution_count": null,
   "metadata": {},
   "outputs": [],
   "source": [
    "fig = go.Figure()\n",
    "fig.add_trace(go.Scatter(x=[i+1 for i in range(7)], y=variances['Preprocessed'].cumsum(), mode='lines+markers', name='Preprocessed', marker_color='lightseagreen'))\n",
    "fig.add_trace(go.Scatter(x=[i+1 for i in range(7)], y=variances['Unpreprocessed'].cumsum(), mode='lines+markers', name='Unpreprocessed', marker_color='lightpink'))\n",
    "fig.update_layout(xaxis_title='PC', yaxis_title='Explained Variance (%)', title='Cumulative Explained Variance of PCA of Preprocessed and Unpreprocessed Data', barmode='group', showlegend=True)\n",
    "fig.show()"
   ]
  },
  {
   "cell_type": "code",
   "execution_count": null,
   "metadata": {},
   "outputs": [],
   "source": [
    "# Control for time delay embedding\n",
    "pca_raw = PCA(n_components=3)\n",
    "pca_data_raw = pca_raw.fit_transform(dataframe.loc[:,~dataframe.columns.isin(['state','dataset'])])\n",
    "data_raw = pd.DataFrame(pca_data_raw)\n",
    "data_raw['state'] = dataframe['state']\n",
    "hf.plot_PCs(data_raw, 'PCA of Time Embedded Data', pca_raw.explained_variance_ratio_*100)"
   ]
  }
 ],
 "metadata": {
  "kernelspec": {
   "display_name": "Python 3",
   "language": "python",
   "name": "python3"
  },
  "language_info": {
   "codemirror_mode": {
    "name": "ipython",
    "version": 3
   },
   "file_extension": ".py",
   "mimetype": "text/x-python",
   "name": "python",
   "nbconvert_exporter": "python",
   "pygments_lexer": "ipython3",
   "version": "3.10.12"
  }
 },
 "nbformat": 4,
 "nbformat_minor": 2
}
