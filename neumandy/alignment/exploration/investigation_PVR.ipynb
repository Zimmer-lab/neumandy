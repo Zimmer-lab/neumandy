{
 "cells": [
  {
   "cell_type": "markdown",
   "metadata": {},
   "source": [
    "# Investigation of PVR\n",
    "\n",
    "as seen in data_diagnostics notebook, upon quartile normalization, some datasets, e.g. dataset 20200826_w6 in the PVR neuron are shifted or not normalized accordingly. This notebook investigates some transformations or modifications to see if the data can be normalized. \n",
    "This issue of a shift in one dataset might be also due to outliers present in the dataset. For further outlier detection and removal methods, please refer to the outlier_detection_2 notebook"
   ]
  },
  {
   "cell_type": "code",
   "execution_count": null,
   "metadata": {},
   "outputs": [],
   "source": [
    "import matplotlib.pyplot as plt\n",
    "import seaborn as sns\n",
    "import pandas as pd\n",
    "import plotly.express as px\n",
    "from sklearn.preprocessing import RobustScaler\n",
    "import helper_functions as hf\n",
    "\n",
    "truncated_dataframe = pd.read_hdf('truncated_dataframe_0602.h5', 'df')\n",
    "quartiled_dataframe = pd.read_hdf('quartiled_data_0602.h5')"
   ]
  },
  {
   "cell_type": "code",
   "execution_count": null,
   "metadata": {},
   "outputs": [],
   "source": [
    "for column in quartiled_dataframe.columns:\n",
    "    col = pd.DataFrame(quartiled_dataframe[column])\n",
    "    if column == 'PVR':\n",
    "        fig = px.scatter(col, x=col.index, y=column, color=quartiled_dataframe['state'], title=column,marginal_y='histogram').show()"
   ]
  },
  {
   "cell_type": "code",
   "execution_count": null,
   "metadata": {},
   "outputs": [],
   "source": [
    "px.scatter(truncated_dataframe, x=truncated_dataframe.index, y='PVR', color='dataset', title='PVR').show()"
   ]
  },
  {
   "cell_type": "markdown",
   "metadata": {},
   "source": [
    "## Quartile Normalization\n",
    "PVR after normalizing each dataset and then across datasets, followed by a subtraction of the 20th percentile of the dataset"
   ]
  },
  {
   "cell_type": "code",
   "execution_count": null,
   "metadata": {},
   "outputs": [],
   "source": [
    "# Create a grid of histograms\n",
    "\n",
    "fig, axes = plt.subplots(nrows=1, ncols=2, figsize=(10, 4))\n",
    "\n",
    "pvr = pd.DataFrame(truncated_dataframe[\"PVR\"])\n",
    "sns.histplot(pvr, x=\"PVR\", ax=axes[0]).title.set_text('Histogram of PVR before normalization')\n",
    "\n",
    "pvr_normalized = pd.DataFrame(quartiled_dataframe[\"PVR\"])\n",
    "sns.histplot(pvr_normalized, x=\"PVR\", ax=axes[1]).title.set_text('Histogram of PVR after normalization')\n",
    "\n",
    "plt.tight_layout()\n",
    "plt.show()\n",
    "\n"
   ]
  }
 ],
 "metadata": {
  "kernelspec": {
   "display_name": "Python 3",
   "language": "python",
   "name": "python3"
  },
  "language_info": {
   "codemirror_mode": {
    "name": "ipython",
    "version": 3
   },
   "file_extension": ".py",
   "mimetype": "text/x-python",
   "name": "python",
   "nbconvert_exporter": "python",
   "pygments_lexer": "ipython3",
   "version": "3.10.12"
  }
 },
 "nbformat": 4,
 "nbformat_minor": 2
}
