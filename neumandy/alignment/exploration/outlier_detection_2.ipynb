{
 "cells": [
  {
   "cell_type": "markdown",
   "metadata": {},
   "source": [
    "# <b>Outlier Detection 2</b> *✲ﾟ*｡✧٩(･ิᴗ･ิ๑)۶*✲ﾟ*｡✧\n",
    "\n",
    "Now that we have observed some patterns in the exploration_visualization notebook, we want to investigate where the patterns are coming from. We will perform some basic statistical diagnostics like outlier detection to confirm whether the ventral/dorsal data points that are so far away from the rest are indeed outliers and if they are from the same dataset. "
   ]
  },
  {
   "cell_type": "code",
   "execution_count": null,
   "metadata": {},
   "outputs": [],
   "source": [
    "import helper_functions as hf\n",
    "import numpy as np\n",
    "import pandas as pd\n",
    "import plotly.express as px\n",
    "from pyod.models.knn import KNN\n",
    "import wbfm.utils.visualization.filtering_traces as filtering_traces"
   ]
  },
  {
   "cell_type": "markdown",
   "metadata": {},
   "source": [
    "#### Loading Data"
   ]
  },
  {
   "cell_type": "code",
   "execution_count": null,
   "metadata": {},
   "outputs": [],
   "source": [
    "# current modifications on the dataset:\n",
    "# stacked dataframe of 23 datasets\n",
    "# removed neurons that are NaN-ed in more than 13 datasets\n",
    "# imputed remaining NaNs with PPCA (see data_wrangling section 2)\n",
    "imputed_dataframe = pd.read_hdf(\"imputed_dataframe_0602.h5\")"
   ]
  },
  {
   "cell_type": "markdown",
   "metadata": {},
   "source": [
    "### 1. PyOD - k-Nearest Neighbors (KNN)"
   ]
  },
  {
   "cell_type": "code",
   "execution_count": null,
   "metadata": {},
   "outputs": [],
   "source": [
    "outliers = []\n",
    "\n",
    "for column in [column for column in list(imputed_dataframe.columns) if column != \"state\" and column != \"dataset\"]:\n",
    "\n",
    "    knn_model = KNN(contamination=0.1)\n",
    "    col = pd.DataFrame(imputed_dataframe[column])\n",
    "    knn_model.fit(col)\n",
    "    outliers_knn = knn_model.predict(col)\n",
    "    col['outlier'] = outliers_knn\n",
    "    col[\"outlier\"] = col[\"outlier\"].apply(lambda x: \"outlier\" if x == 1 else \"no outlier\")\n",
    "    \n",
    "    if column == 'PVR':\n",
    "        fig = px.scatter(col, x=col.index, y=column, title=column, color='outlier', color_continuous_scale='viridis', marginal_y='histogram').show()"
   ]
  },
  {
   "cell_type": "markdown",
   "metadata": {},
   "source": [
    "### 2. Rolling Mean"
   ]
  },
  {
   "cell_type": "code",
   "execution_count": null,
   "metadata": {},
   "outputs": [],
   "source": [
    "inlier_dataframe = imputed_dataframe.copy()\n",
    "\n",
    "for column in inlier_dataframe.columns:\n",
    "    \n",
    "    # detect outliers per neuron\n",
    "    col = pd.DataFrame(inlier_dataframe[column])\n",
    "    col_outliers = filtering_traces.remove_outliers_via_rolling_mean(col, window=40, std_factor=3, fill_value='outlier')\n",
    "    col['outlier'] = col_outliers[column].apply(lambda x: x if x == 'outlier' else 'no outlier')\n",
    "    \n",
    "    if column == 'SMDVR':\n",
    "        fig = px.scatter(col, x=col.index, y=column, title=column, color='outlier', color_continuous_scale='viridis', marginal_y='histogram').show()\n",
    "\n",
    "    inlier_dataframe[column][col[\"outlier\"]==\"outlier\"] = np.nan\n",
    "    \n",
    "    if column == 'SMDVR':\n",
    "        fig = px.scatter(inlier_dataframe, x=col.index, y=column, title=column, color_continuous_scale='viridis', marginal_y='histogram').show()"
   ]
  },
  {
   "cell_type": "markdown",
   "metadata": {},
   "source": [
    "### Isolation Forest"
   ]
  },
  {
   "cell_type": "code",
   "execution_count": null,
   "metadata": {},
   "outputs": [],
   "source": [
    "contanimation = 0.025\n",
    "isolated_forest = imputed_dataframe.groupby(\"dataset\").apply(lambda x: hf.apply_isolation_forest(x, contanimation))"
   ]
  },
  {
   "cell_type": "code",
   "execution_count": null,
   "metadata": {},
   "outputs": [],
   "source": [
    "fig = px.scatter(isolated_forest, x=isolated_forest.index, y='PVR', title='PVR', color='outlier', color_continuous_scale='viridis', marginal_y='histogram').show()"
   ]
  }
 ],
 "metadata": {
  "kernelspec": {
   "display_name": "Python 3",
   "language": "python",
   "name": "python3"
  },
  "language_info": {
   "codemirror_mode": {
    "name": "ipython",
    "version": 3
   },
   "file_extension": ".py",
   "mimetype": "text/x-python",
   "name": "python",
   "nbconvert_exporter": "python",
   "pygments_lexer": "ipython3",
   "version": "3.10.6"
  }
 },
 "nbformat": 4,
 "nbformat_minor": 2
}
