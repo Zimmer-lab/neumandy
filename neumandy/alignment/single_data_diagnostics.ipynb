{
 "cells": [
  {
   "cell_type": "markdown",
   "metadata": {},
   "source": [
    "### Single dataset Analysis\n",
    "We will explore each dataset separately, for this we take resampled (to 3529 time points), truncated (to 3329 time points), normalized (with a quantile range of [0.1,0.9] and [0.05,0.95]) and smoothed with time delay embedding"
   ]
  },
  {
   "cell_type": "code",
   "execution_count": null,
   "metadata": {},
   "outputs": [],
   "source": [
    "import helper_functions as hf\n",
    "import pandas as pd\n",
    "import plotly.express as px\n",
    "from sklearn.decomposition import PCA\n",
    "\n",
    "time_embedded = pd.read_hdf(\"time_embedded_2103.h5\")\n",
    "turn_vec = time_embedded[\"state\"]"
   ]
  },
  {
   "cell_type": "code",
   "execution_count": null,
   "metadata": {},
   "outputs": [],
   "source": [
    "time_embedded.columns = time_embedded.columns.astype(str)\n",
    "pca = PCA(n_components=3)\n",
    "pca_data = pca.fit_transform(time_embedded.loc[:,~time_embedded.columns.isin([\"state\", \"dataset\"])])\n",
    "data = pd.DataFrame(pca_data)\n",
    "data['state'] = time_embedded['state']\n",
    "data['dataset'] = time_embedded['dataset']"
   ]
  },
  {
   "cell_type": "markdown",
   "metadata": {},
   "source": [
    "### Apply and plot PCs per dataset"
   ]
  },
  {
   "cell_type": "code",
   "execution_count": null,
   "metadata": {},
   "outputs": [],
   "source": [
    "datasets = {dataset: df for dataset, df in data.groupby(\"dataset\")}"
   ]
  },
  {
   "cell_type": "code",
   "execution_count": null,
   "metadata": {},
   "outputs": [],
   "source": [
    "hf.plot_PCs_iteratively(datasets).run_server(debug=True, port=8053)"
   ]
  },
  {
   "cell_type": "code",
   "execution_count": null,
   "metadata": {},
   "outputs": [],
   "source": [
    "hf.plot_PCs_separately(datasets).run_server(debug=True, port=8053)"
   ]
  }
 ],
 "metadata": {
  "kernelspec": {
   "display_name": "Python 3",
   "language": "python",
   "name": "python3"
  },
  "language_info": {
   "codemirror_mode": {
    "name": "ipython",
    "version": 3
   },
   "file_extension": ".py",
   "mimetype": "text/x-python",
   "name": "python",
   "nbconvert_exporter": "python",
   "pygments_lexer": "ipython3",
   "version": "3.10.12"
  }
 },
 "nbformat": 4,
 "nbformat_minor": 2
}
