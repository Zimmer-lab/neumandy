{
 "cells": [
  {
   "cell_type": "markdown",
   "id": "dc6f0068-5222-4cdd-82bc-c2d5c0751466",
   "metadata": {},
   "source": [
    "# Converting MATLAB wbstructs to pandas dataframes\n",
    "\n",
    "Check the README.md for more information when to use this tool. This notebook simply calls the functions in the wbstruct_converter.py file. To get a better understanding of the code, please refer to the wbstruct_converter.py file. If there are unhandled errors, please open an issue on GitHub."
   ]
  },
  {
   "cell_type": "code",
   "execution_count": null,
   "id": "4d8a2764-c12f-48c7-a1a2-e7095b44738c",
   "metadata": {},
   "outputs": [],
   "source": [
    "import utils.wbstruct_to_dicts as wbstruct_dictioniaries\n",
    "import utils.wbstruct_dicts_to_dataframes as wbstruct_dataframes\n",
    "import dill\n",
    "from collections import defaultdict\n",
    "import numpy as np\n",
    "import pandas as pd\n",
    "\n",
    "\n",
    "\n",
    "# in case we want to reload our module\n",
    "import importlib\n",
    "importlib.reload(wbstruct_dictioniaries)\n",
    "importlib.reload(wbstruct_dataframes)"
   ]
  },
  {
   "cell_type": "markdown",
   "id": "9584c141-073b-489e-8ddb-77a69845ddd8",
   "metadata": {},
   "source": [
    "### Extracting Rebecca's data\n",
    "\n",
    "deltaFOverF_bc (bleach corrected version), we might have to visit the non-bleach corrected version as well though"
   ]
  },
  {
   "cell_type": "code",
   "execution_count": null,
   "id": "3e9ea6e9",
   "metadata": {},
   "outputs": [],
   "source": [
    "data_source = \"Y:\\\\lisc\\\\project\\\\neurobiology\\\\zimmer\\\\Rebecca\\\\Analyses\\\\Whole_WT_Analyses\""
   ]
  },
  {
   "cell_type": "code",
   "execution_count": null,
   "id": "80d5ba23",
   "metadata": {},
   "outputs": [],
   "source": [
    "# import and save rebecca's data \n",
    "files = wbstruct_dictioniaries.find_file(data_source,\"WholeWTData.mat\",\"\",\"\")\n",
    "matfile = wbstruct_dictioniaries.load_matlab_file(files[0]) "
   ]
  },
  {
   "cell_type": "code",
   "execution_count": null,
   "id": "c14d7e8a",
   "metadata": {},
   "outputs": [],
   "source": [
    "datasets = defaultdict(pd.DataFrame)\n",
    "\n",
    "count = 0\n",
    "\n",
    "for dataset in matfile['WholeWTData']['dataset'][0]:\n",
    "    ds = dataset[0].tolist()\n",
    "    key = ds.split(\"_\")[2]+\"_\"+ds.split(\"_\")[3]\n",
    "    # merging head and tail data\n",
    "    trialdf = matfile[\"WholeWTData\"][\"deltaFOverF_bc\"][0][count]\n",
    "\n",
    "    id_names = wbstruct_dataframes.get_values(matfile['WholeWTData']['ID'][0][count][0])\n",
    "    for i in range(len(id_names)):\n",
    "        \n",
    "        if isinstance(id_names[i], np.ndarray):\n",
    "            id_names[i] = wbstruct_dataframes.get_values(id_names[i][0])\n",
    "        if isinstance(id_names[i], list):\n",
    "            id_names[i] = id_names[i][0]\n",
    "    \n",
    "    id_length = trialdf.shape[1]\n",
    "    colnames = [f\"neuron_{i:03d}\" for i in range(id_length)]\n",
    "    colnames = [dummy if pd.isna(ID) else ID for dummy, ID in zip(colnames, id_names)]\n",
    "    newdf = pd.DataFrame(trialdf, columns=colnames)\n",
    "    avar = newdf.columns.get_loc(\"AVAR\")\n",
    "    avar_traces = matfile['WholeWTData'][\"traceColoring\"][0][count][:, avar]\n",
    "    aval = newdf.columns.get_loc(\"AVAL\")\n",
    "    aval_traces = matfile['WholeWTData'][\"traceColoring\"][0][count][:, aval]\n",
    "    if 0 in avar_traces:\n",
    "        newdf[\"state\"] = aval_traces\n",
    "    else:\n",
    "        newdf[\"state\"] = avar_traces\n",
    "    datasets[key] = newdf\n",
    "    count = count + 1\n",
    "    "
   ]
  },
  {
   "cell_type": "code",
   "execution_count": null,
   "id": "28576830",
   "metadata": {},
   "outputs": [],
   "source": [
    "with open('../preprocessing/dataframes_rebecca_2301.pkl','wb') as f:\n",
    "    dill.dump(datasets, f)"
   ]
  },
  {
   "cell_type": "markdown",
   "id": "5e38c367",
   "metadata": {},
   "source": []
  }
 ],
 "metadata": {
  "kernelspec": {
   "display_name": "Python 3.10.6 64-bit",
   "language": "python",
   "name": "python3"
  },
  "language_info": {
   "codemirror_mode": {
    "name": "ipython",
    "version": 3
   },
   "file_extension": ".py",
   "mimetype": "text/x-python",
   "name": "python",
   "nbconvert_exporter": "python",
   "pygments_lexer": "ipython3",
   "version": "3.10.6"
  },
  "vscode": {
   "interpreter": {
    "hash": "e6b8062c8d873bf17e80439cf9ee27761532659cc2634ffd2b6294fa54795af1"
   }
  }
 },
 "nbformat": 4,
 "nbformat_minor": 5
}
